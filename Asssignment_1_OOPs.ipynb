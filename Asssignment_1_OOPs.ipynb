{
 "cells": [
  {
   "cell_type": "markdown",
   "id": "4e505788-199a-4fe3-b162-c2160137e49c",
   "metadata": {},
   "source": [
    "Problem 1: Bank Account Create a class representing a bank account with attributes like account number, account holder name, and balance. Implement methods to deposit and withdraw money from the account."
   ]
  },
  {
   "cell_type": "code",
   "execution_count": 2,
   "id": "528b9b70-a6d1-4fd2-9776-03279e24854e",
   "metadata": {},
   "outputs": [
    {
     "name": "stdout",
     "output_type": "stream",
     "text": [
      "Deposited 200. New balance: 700\n",
      "Withdrew 100. New balance: 600\n",
      "Insufficient balance!\n"
     ]
    }
   ],
   "source": [
    "# Problem 1: Bank Account\n",
    "class BankAccount:\n",
    "    def __init__(self, account_number, holder_name, balance=0):\n",
    "        self.account_number = account_number\n",
    "        self.holder_name = holder_name\n",
    "        self.balance = balance\n",
    "\n",
    "    def deposit(self, amount):\n",
    "        self.balance += amount\n",
    "        print(f\"Deposited {amount}. New balance: {self.balance}\")\n",
    "\n",
    "    def withdraw(self, amount):\n",
    "        if amount <= self.balance:\n",
    "            self.balance -= amount\n",
    "            print(f\"Withdrew {amount}. New balance: {self.balance}\")\n",
    "        else:\n",
    "            print(\"Insufficient balance!\")\n",
    "\n",
    "# Execution of Problem 1\n",
    "account1 = BankAccount(101, \"Alice\", 500)\n",
    "account1.deposit(200)\n",
    "account1.withdraw(100)\n",
    "account1.withdraw(700)\n"
   ]
  },
  {
   "cell_type": "markdown",
   "id": "628ae32f-2186-4430-9e37-f6c61c444e5b",
   "metadata": {},
   "source": [
    "Problem 2: Employee Management Create a class representing an employee with attributes like employee ID, name, and salary. Implement methods to calculate the yearly bonus and display employee details."
   ]
  },
  {
   "cell_type": "code",
   "execution_count": 3,
   "id": "245787f8-5d2b-4494-a950-86cd5ae3b244",
   "metadata": {},
   "outputs": [
    {
     "name": "stdout",
     "output_type": "stream",
     "text": [
      "Employee ID: 201, Name: Bob, Salary: 50000\n",
      "Yearly Bonus: 5000.0\n"
     ]
    }
   ],
   "source": [
    "# Problem 2: Employee Management\n",
    "class Employee:\n",
    "    def __init__(self, emp_id, name, salary):\n",
    "        self.emp_id = emp_id\n",
    "        self.name = name\n",
    "        self.salary = salary\n",
    "\n",
    "    def yearly_bonus(self, bonus_percent):\n",
    "        return self.salary * (bonus_percent / 100)\n",
    "\n",
    "    def display_details(self):\n",
    "        print(f\"Employee ID: {self.emp_id}, Name: {self.name}, Salary: {self.salary}\")\n",
    "\n",
    "# Execution of Problem 2\n",
    "emp1 = Employee(201, \"Bob\", 50000)\n",
    "emp1.display_details()\n",
    "print(f\"Yearly Bonus: {emp1.yearly_bonus(10)}\")"
   ]
  },
  {
   "cell_type": "markdown",
   "id": "4482967c-066a-47b6-bb2b-d55bd8b6fba6",
   "metadata": {},
   "source": [
    "Problem 3: Vehicle Rental Create a class representing a vehicle rental system. Implement methods to rent a vehicle, return a vehicle, and display available vehicles."
   ]
  },
  {
   "cell_type": "code",
   "execution_count": 4,
   "id": "e469a895-a3ba-4187-a3b7-307b9fa1b62c",
   "metadata": {},
   "outputs": [
    {
     "name": "stdout",
     "output_type": "stream",
     "text": [
      "Available vehicles: ['Car', 'Bike', 'Truck']\n",
      "Car rented out.\n",
      "Available vehicles: ['Bike', 'Truck']\n",
      "Car returned.\n",
      "Available vehicles: ['Bike', 'Truck', 'Car']\n"
     ]
    }
   ],
   "source": [
    "# Problem 3: Vehicle Rental\n",
    "class VehicleRental:\n",
    "    def __init__(self):\n",
    "        self.available_vehicles = [\"Car\", \"Bike\", \"Truck\"]\n",
    "\n",
    "    def rent_vehicle(self, vehicle):\n",
    "        if vehicle in self.available_vehicles:\n",
    "            self.available_vehicles.remove(vehicle)\n",
    "            print(f\"{vehicle} rented out.\")\n",
    "        else:\n",
    "            print(\"Vehicle not available!\")\n",
    "\n",
    "    def return_vehicle(self, vehicle):\n",
    "        self.available_vehicles.append(vehicle)\n",
    "        print(f\"{vehicle} returned.\")\n",
    "\n",
    "    def display_available_vehicles(self):\n",
    "        print(\"Available vehicles:\", self.available_vehicles)\n",
    "\n",
    "# Execution of Problem 3\n",
    "rental = VehicleRental()\n",
    "rental.display_available_vehicles()\n",
    "rental.rent_vehicle(\"Car\")\n",
    "rental.display_available_vehicles()\n",
    "rental.return_vehicle(\"Car\")\n",
    "rental.display_available_vehicles()"
   ]
  },
  {
   "cell_type": "markdown",
   "id": "769b5047-abe5-4321-8184-200fa3a25b15",
   "metadata": {},
   "source": [
    "Problem 4: Library Catalog Create classes representing a library and a book. Implement methods to add books to the library, borrow books, and display available books."
   ]
  },
  {
   "cell_type": "code",
   "execution_count": 5,
   "id": "fd4e5807-5a38-4149-9389-967291607a43",
   "metadata": {},
   "outputs": [
    {
     "name": "stdout",
     "output_type": "stream",
     "text": [
      "Book 'Python Basics' added.\n",
      "Book 'Machine Learning' added.\n",
      "Available books: ['Python Basics', 'Machine Learning']\n",
      "Book 'Python Basics' borrowed.\n",
      "Available books: ['Machine Learning']\n"
     ]
    }
   ],
   "source": [
    "# Problem 4: Library Catalog\n",
    "class Book:\n",
    "    def __init__(self, title):\n",
    "        self.title = title\n",
    "\n",
    "class Library:\n",
    "    def __init__(self):\n",
    "        self.books = []\n",
    "\n",
    "    def add_book(self, book):\n",
    "        self.books.append(book.title)\n",
    "        print(f\"Book '{book.title}' added.\")\n",
    "\n",
    "    def borrow_book(self, book_title):\n",
    "        if book_title in self.books:\n",
    "            self.books.remove(book_title)\n",
    "            print(f\"Book '{book_title}' borrowed.\")\n",
    "        else:\n",
    "            print(\"Book not available!\")\n",
    "\n",
    "    def display_books(self):\n",
    "        print(\"Available books:\", self.books)\n",
    "\n",
    "# Execution of Problem 4\n",
    "lib = Library()\n",
    "book1 = Book(\"Python Basics\")\n",
    "book2 = Book(\"Machine Learning\")\n",
    "lib.add_book(book1)\n",
    "lib.add_book(book2)\n",
    "lib.display_books()\n",
    "lib.borrow_book(\"Python Basics\")\n",
    "lib.display_books()"
   ]
  },
  {
   "cell_type": "markdown",
   "id": "e93f97b6-0523-4cf1-826c-68ccff28d147",
   "metadata": {},
   "source": [
    "Problem 5: Product Inventory Create classes representing a product and an inventory system. Implement methods to add products to the inventory, update product quantity, and display available products."
   ]
  },
  {
   "cell_type": "code",
   "execution_count": 6,
   "id": "d916af7d-1686-44c4-9537-15de7ceb83f5",
   "metadata": {},
   "outputs": [
    {
     "name": "stdout",
     "output_type": "stream",
     "text": [
      "Product 'Laptop' added with quantity 5.\n",
      "Product 'Phone' added with quantity 10.\n",
      "Available products: {'Laptop': 5, 'Phone': 10}\n",
      "Updated Laptop quantity to 8.\n",
      "Available products: {'Laptop': 8, 'Phone': 10}\n"
     ]
    }
   ],
   "source": [
    "# Problem 5: Product Inventory\n",
    "class Product:\n",
    "    def __init__(self, name, quantity):\n",
    "        self.name = name\n",
    "        self.quantity = quantity\n",
    "\n",
    "class Inventory:\n",
    "    def __init__(self):\n",
    "        self.products = {}\n",
    "\n",
    "    def add_product(self, product):\n",
    "        self.products[product.name] = product.quantity\n",
    "        print(f\"Product '{product.name}' added with quantity {product.quantity}.\")\n",
    "\n",
    "    def update_quantity(self, name, quantity):\n",
    "        if name in self.products:\n",
    "            self.products[name] += quantity\n",
    "            print(f\"Updated {name} quantity to {self.products[name]}.\")\n",
    "        else:\n",
    "            print(\"Product not found!\")\n",
    "\n",
    "    def display_products(self):\n",
    "        print(\"Available products:\", self.products)\n",
    "\n",
    "# Execution of Problem 5\n",
    "inv = Inventory()\n",
    "p1 = Product(\"Laptop\", 5)\n",
    "p2 = Product(\"Phone\", 10)\n",
    "inv.add_product(p1)\n",
    "inv.add_product(p2)\n",
    "inv.display_products()\n",
    "inv.update_quantity(\"Laptop\", 3)\n",
    "inv.display_products()\n"
   ]
  },
  {
   "cell_type": "markdown",
   "id": "294d4b23-e421-4a85-976f-10fa9b47f447",
   "metadata": {},
   "source": [
    "Problem 6: Shape Calculation Create a class representing a shape with attributes like length, width, and height. Implement methods to calculate the area and perimeter of the shape."
   ]
  },
  {
   "cell_type": "code",
   "execution_count": null,
   "id": "9592311a-8c4e-4bee-9eba-ba4d17e67aae",
   "metadata": {},
   "outputs": [],
   "source": []
  },
  {
   "cell_type": "markdown",
   "id": "fc8e35d1-08cc-4331-9250-c0663456bf46",
   "metadata": {},
   "source": [
    "Problem 7: Student Management Create a class representing a student with attributes like student ID, name, and grades. Implement methods to calculate the average grade and display student details."
   ]
  },
  {
   "cell_type": "code",
   "execution_count": null,
   "id": "a02d0eb2-ae60-410d-b2ad-fa7d58f11e2e",
   "metadata": {},
   "outputs": [],
   "source": []
  },
  {
   "cell_type": "markdown",
   "id": "c16b741d-148f-45b3-9480-53e71399d5b5",
   "metadata": {},
   "source": [
    "Problem 8: Email Management Create a class representing an email with attributes like sender, recipient, and subject. Implement methods to send an email and display email details."
   ]
  },
  {
   "cell_type": "code",
   "execution_count": null,
   "id": "783d75e7-e1bb-4500-a744-9542a61b032f",
   "metadata": {},
   "outputs": [],
   "source": []
  },
  {
   "cell_type": "markdown",
   "id": "463d4955-3b5c-417a-8a65-c7eb7fc5b5ab",
   "metadata": {},
   "source": [
    "Problem 9: Social Media Profile Create a class representing a social media profile with attributes like username and posts. Implement methods to add posts, display posts, and search for posts by keyword."
   ]
  },
  {
   "cell_type": "code",
   "execution_count": null,
   "id": "4d3d792e-8626-4b73-92fa-fd25e5439907",
   "metadata": {},
   "outputs": [],
   "source": []
  },
  {
   "cell_type": "markdown",
   "id": "e0d2ab06-2d81-4a6d-9d6b-ef1b47a45e2d",
   "metadata": {},
   "source": [
    "Problem 10: ToDo List Create a class representing a ToDo list with attributes like tasks and due dates. Implement methods to add tasks, mark tasks as completed, and display pending tasks."
   ]
  },
  {
   "cell_type": "code",
   "execution_count": null,
   "id": "bf0f6ad3-731a-41b7-a952-e177520371c3",
   "metadata": {},
   "outputs": [],
   "source": []
  }
 ],
 "metadata": {
  "kernelspec": {
   "display_name": "Python 3 (ipykernel)",
   "language": "python",
   "name": "python3"
  },
  "language_info": {
   "codemirror_mode": {
    "name": "ipython",
    "version": 3
   },
   "file_extension": ".py",
   "mimetype": "text/x-python",
   "name": "python",
   "nbconvert_exporter": "python",
   "pygments_lexer": "ipython3",
   "version": "3.11.9"
  }
 },
 "nbformat": 4,
 "nbformat_minor": 5
}
