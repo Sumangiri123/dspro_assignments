{
 "cells": [
  {
   "cell_type": "markdown",
   "id": "ec1a80ad-7e87-454f-af6e-e3a620f5faa4",
   "metadata": {},
   "source": [
    "Assignment - Time Complexity and Recursion"
   ]
  },
  {
   "cell_type": "markdown",
   "id": "d6902b0b-1cac-4441-bd59-ad6efea5ac1b",
   "metadata": {},
   "source": [
    "Find time complexity of below code blocks :"
   ]
  },
  {
   "cell_type": "raw",
   "id": "6416f51e-bc2d-4a91-8cd0-85e3ed9b2fc0",
   "metadata": {
    "tags": []
   },
   "source": [
    "Problem 1 :\n",
    "\n",
    "def quicksort(arr):\n",
    "    if len(arr) <= 1:\n",
    "    return arr\n",
    "    pivot = arr[len(arr) // 2]\n",
    "    left = [x for x in arr if x < pivot]\n",
    "    middle = [x for x in arr if x == pivot]\n",
    "    right = [x for x in arr if x > pivot]\n",
    "    return quicksort(left) + middle + quicksort(right)"
   ]
  },
  {
   "cell_type": "code",
   "execution_count": 11,
   "id": "23e59745-28fb-43b6-a5b1-3dbe4875ede8",
   "metadata": {},
   "outputs": [],
   "source": [
    "# The time complexity of the provided quicksort implementation is O(n log n) in the average case. This is because \n",
    "# quicksort efficiently partitions the array around a pivot, leading to a balanced binary tree of recursive calls, \n",
    "# which results in a time complexity of O(n log n).However, in the worst case, where the pivot is always the smallest\n",
    "# or largest element, the time complexity can degrade to O(n^2)."
   ]
  },
  {
   "cell_type": "raw",
   "id": "5be7e39b-8cb0-4193-9b2c-70ad6f1c92c2",
   "metadata": {},
   "source": [
    "Problem 2 :\n",
    "    \n",
    "def nested_loop_example(matrix):\n",
    "    rows, cols = len(matrix), len(matrix[0])\n",
    "    total = 0\n",
    "    for i in range(rows):\n",
    "        for j in range(cols):\n",
    "            total += matrix[i][j]\n",
    "    return total"
   ]
  },
  {
   "cell_type": "code",
   "execution_count": 12,
   "id": "3b266b7a-ab01-47e3-b55f-8286eda35bb9",
   "metadata": {},
   "outputs": [],
   "source": [
    "# The time complexity of the provided nested_loop_example function is O(rows * cols), where rows is the number \n",
    "# of rows in the matrix and cols is the number of columns. This is because the function contains a nested loop structure,\n",
    "# where the outer loop iterates over each row, and the inner loop iterates over each column within that row. Since the \n",
    "# inner loop executes for every iteration of the outer loop, the total number of iterations is the product of the number of \n",
    "# rows and columns,leading to a linear time complexity in terms of the total number of elements in the matrix"
   ]
  },
  {
   "cell_type": "raw",
   "id": "86e84f6e-644f-4761-a60d-9626c4f4ffb5",
   "metadata": {},
   "source": [
    "Problem 3 :\n",
    "\n",
    "def example_function(arr):\n",
    "    result = 0\n",
    "    for element in arr: \n",
    "        result += element\n",
    "    return result"
   ]
  },
  {
   "cell_type": "code",
   "execution_count": 13,
   "id": "96a7b7f4-5e3b-4a91-b5e2-aa138304d666",
   "metadata": {},
   "outputs": [],
   "source": [
    "# The time complexity of the example_function is O(n), where n is the number of elements in the array arr. This is because \n",
    "# the function iterates over each element in the array exactly once, performing a constant time operation (addition) for \n",
    "# each element. Therefore, the total time taken is proportional to the number of elements in the array,making the time \n",
    "# complexity linear."
   ]
  },
  {
   "cell_type": "raw",
   "id": "3cad6ca4-6882-4fe3-a11d-f28fa77d3d76",
   "metadata": {},
   "source": [
    "Problem 4 :\n",
    "    \n",
    "def longest_increasing_subsequence(nums):\n",
    "    n = len(nums)\n",
    "    lis = [1] * n\n",
    "    for i in range(1, n):\n",
    "        for j in range(0, i):\n",
    "            if nums[i] > nums[j] and lis[i] < lis[j] + 1:\n",
    "            lis[i] = lis[j] + 1\n",
    "    return max(lis)"
   ]
  },
  {
   "cell_type": "code",
   "execution_count": 14,
   "id": "417e07c6-7c2b-41d3-8521-756ac2fd4719",
   "metadata": {},
   "outputs": [],
   "source": [
    "# The time complexity of the longest_increasing_subsequence function is O(n^2), where n is the number of elements in\n",
    "# the input array nums. This is because the function contains two nested loops: the outer loop iterates over each element\n",
    "# in the array, and the inner loop iterates over all previous elements for each current element. Since the inner loop range\n",
    "# is dependent on the current index of the outer loop, the total number of iterations is proportional to the square of the \n",
    "# number of elements in the array, leading to a quadratic time complexity ."
   ]
  },
  {
   "cell_type": "raw",
   "id": "8d740ac5-0a5e-47ee-a2e3-fc9b04af075d",
   "metadata": {},
   "source": [
    "Problem 5 :\n",
    "    \n",
    "def mysterious_function(arr):\n",
    "    n = len(arr)\n",
    "    result = 0\n",
    "    for i in range(n):\n",
    "        for j in range(i, n):\n",
    "            result += arr[i] * arr[j]\n",
    "    return result"
   ]
  },
  {
   "cell_type": "code",
   "execution_count": 15,
   "id": "1e6340cf-b66b-4191-b61a-421796e00d6c",
   "metadata": {},
   "outputs": [],
   "source": [
    "# The time complexity of the mysterious_function is O(n^2), where n is the number of elements in the input array arr. \n",
    "# This is because the function contains two nested loops: the outer loop iterates over each element in the array, and the\n",
    "# inner loop iterates from the current index of the outer loop to the end of the array. Since the inner loop range is \n",
    "# dependent on the current index of the outer loop, the total number of iterations is proportional to the square of the \n",
    "# number of elements in the array, leading to a quadratic time complexity."
   ]
  },
  {
   "cell_type": "code",
   "execution_count": null,
   "id": "bbf7482e-b35e-42ff-8905-6cf4a1d57771",
   "metadata": {
    "jupyter": {
     "source_hidden": true
    },
    "tags": []
   },
   "outputs": [],
   "source": []
  },
  {
   "cell_type": "markdown",
   "id": "4869c746-6055-4b2f-9fc9-c6ad793f4327",
   "metadata": {},
   "source": [
    "Solve the following problems on recursion"
   ]
  },
  {
   "cell_type": "raw",
   "id": "a9ce9abe-79da-4a44-9861-cc9e4f8b0bbd",
   "metadata": {},
   "source": [
    "Problem 6 : Sum of Digits\n",
    "\n",
    "Write a recursive function to calculate the sum of digits of a given positive integer.\n",
    "sum_of_digits(123) -> 6"
   ]
  },
  {
   "cell_type": "code",
   "execution_count": null,
   "id": "2464dcc2-692a-45d3-972d-8f144ee4496b",
   "metadata": {},
   "outputs": [],
   "source": [
    "def sum_of_digits(n):\n",
    "    if n <= 9:\n",
    "        return n\n",
    "    return (n%10)+sum_of_digits(n//10)\n",
    "\n",
    "sum_of_digits(123)"
   ]
  },
  {
   "cell_type": "raw",
   "id": "dcba6ace-2037-4438-a269-7d9094e36c1c",
   "metadata": {},
   "source": [
    "Problem 7: Fibonacci Series\n",
    "\n",
    "Write a recursive function to generate the first n numbers of the Fibonacci series.\n",
    "fibonacci_series(6) -> [0, 1, 1, 2, 3, 5]"
   ]
  },
  {
   "cell_type": "code",
   "execution_count": null,
   "id": "76eaee99-88c8-4dcb-8e24-819c0785cdee",
   "metadata": {},
   "outputs": [],
   "source": [
    "def fibonacci(n):\n",
    "    l = []\n",
    "    if n == 1:\n",
    "        l.append(0)    \n",
    "    a,b = 0,1\n",
    "    l = [0,1]\n",
    "    for i in range(3,n+1):\n",
    "        a,b = b,a+b\n",
    "        l.append(b)\n",
    "    return l\n",
    "    \n",
    "print(fibonacci(5))\n",
    "    "
   ]
  },
  {
   "cell_type": "raw",
   "id": "c9a7e39d-ec73-42b7-8ff3-1e2fec418f58",
   "metadata": {},
   "source": [
    "Problem 8 : Subset Sum\n",
    "\n",
    "Given a set of positive integers and a target sum, write a recursive function to determine if there exists a subset\n",
    "of the integers that adds up to the target sum.\n",
    "subset_sum([3, 34, 4, 12, 5, 2], 9) -> True"
   ]
  },
  {
   "cell_type": "code",
   "execution_count": 16,
   "id": "ca1d7be7-29d3-4108-8130-bf068e01ce07",
   "metadata": {},
   "outputs": [
    {
     "name": "stdout",
     "output_type": "stream",
     "text": [
      "True\n"
     ]
    }
   ],
   "source": [
    "def subset_sum(nums, target, index=0):\n",
    "    # Base case: if target is 0, we have found a subset that sums up to target\n",
    "    if target == 0:\n",
    "        return True\n",
    "    # Base case: if we have checked all numbers and target is still not 0, no subset exists\n",
    "    if index == len(nums):\n",
    "        return False\n",
    "    \n",
    "    # Recursive case: try including the current number in the subset\n",
    "    if nums[index] <= target:\n",
    "        if subset_sum(nums, target - nums[index], index + 1):\n",
    "            return True\n",
    "    \n",
    "    # Recursive case: try excluding the current number from the subset\n",
    "    return subset_sum(nums, target, index + 1)\n",
    "\n",
    "# Example usage\n",
    "print(subset_sum([3, 34, 4, 12, 5, 2], 9)) # Output: True\n"
   ]
  },
  {
   "cell_type": "raw",
   "id": "405a486b-924c-4f64-927e-6fd76f2ba6d0",
   "metadata": {},
   "source": [
    "Problem 9: Word Break\n",
    "\n",
    "Given a non-empty string and a dictionary of words, write a recursive function to determine if the string can be\n",
    "segmented into a space-separated sequence of dictionary words.\n",
    "word_break( leetcode , [ leet , code ]) -> True"
   ]
  },
  {
   "cell_type": "code",
   "execution_count": null,
   "id": "6659dcc6-4ef7-44aa-8b33-f4bcfa65b86f",
   "metadata": {},
   "outputs": [],
   "source": [
    "def word_break(string,words):\n",
    "    if string == \"\":\n",
    "        return True\n",
    "    else:\n",
    "        for i in range(1,len(string)+1):\n",
    "            if string[:i] in words and word_break(string[i:],words):\n",
    "                return True\n",
    "        return False\n",
    "        \n",
    "print(word_break( \"leetcodes\" , [ \"leet\" , \"code\" ]))"
   ]
  },
  {
   "cell_type": "raw",
   "id": "fc92ae63-9383-4ef7-8ff0-13350584b4f7",
   "metadata": {},
   "source": [
    "Problem 10 : N-Queens\n",
    "Implement a recursive function to solve the N Queens problem, where you have to place N queens on an N×N\n",
    "chessboard in such a way that no two queens threaten each other.\n",
    "n_queens(4)\n",
    "[\n",
    "[\".Q..\",\n",
    "\"...Q\",\n",
    "\"Q...\",\n",
    "\"..Q.\"],\n",
    "[\"..Q.\",\n",
    "\"Q...\",\n",
    "\"...Q\",\n",
    "\".Q..\"]"
   ]
  },
  {
   "cell_type": "code",
   "execution_count": 28,
   "id": "d768c791-054f-4426-95b3-95b56fec4582",
   "metadata": {},
   "outputs": [
    {
     "name": "stdout",
     "output_type": "stream",
     "text": [
      "..Q.\n",
      "Q...\n",
      "...Q\n",
      ".Q..\n"
     ]
    }
   ],
   "source": [
    "# Return True if it's safe to place Queen on Board\n",
    "def isSafeToPlaceQuuen(board,row,col,n):\n",
    "    \n",
    "    # check in the left side\n",
    "    for i in range(col):\n",
    "        if board[row][i] == 1:\n",
    "            return False\n",
    "        \n",
    "    # Check in the upper left Diagonal\n",
    "    for i,j in zip(range(row,-1,-1),range(col,-1,-1)):\n",
    "        if board[i][j] == 1:\n",
    "            return False\n",
    "        \n",
    "    # Check in the lower left diagonal\n",
    "    for i,j in zip(range(row,n,1),range(col,-1,-1)):\n",
    "        if board[i][j] == 1:\n",
    "            return False\n",
    "        \n",
    "    return True\n",
    "\n",
    "def solveNQ(board,n):\n",
    "    if not solveNQutil(board,0,n):\n",
    "        print(\"Solution doesn't exist\")\n",
    "        return \n",
    "    printBoard(board,n)\n",
    "    \n",
    "# Should return True if we are able to place all the queen\n",
    "def solveNQutil(board,col,n):\n",
    "    # Base condition\n",
    "    if col>=n:\n",
    "        return True # Means we have been able to put quuens in all the columns\n",
    "    \n",
    "    # Check for all the rows\n",
    "    for row in range(n):\n",
    "        if isSafeToPlaceQuuen(board,row,col,n):\n",
    "            board[row][col] = 1 # set the queen\n",
    "            \n",
    "            # Recursively try for the next columns \n",
    "            if solveNQutil(board,col+1,n):\n",
    "                return True\n",
    "    \n",
    "            # BackTracking\n",
    "            board[row][col] = 0 # Queen can't be set here\n",
    "    \n",
    "    return False # won't be able to place the quuen \n",
    "\n",
    "\n",
    "def printBoard(board,n):\n",
    "    for i in range(n):\n",
    "        for j in range(n):\n",
    "            if board[i][j] == 1:\n",
    "                print(\"Q\",end=\"\")\n",
    "            else:\n",
    "                print(\".\",end=\"\")\n",
    "        print()\n",
    "        \n",
    "board = [ [0,0,0,0],\n",
    "         [0,0,0,0],\n",
    "         [0,0,0,0],\n",
    "         [0,0,0,0]]\n",
    "solveNQ(board,4)"
   ]
  }
 ],
 "metadata": {
  "kernelspec": {
   "display_name": "Python 3 (ipykernel)",
   "language": "python",
   "name": "python3"
  },
  "language_info": {
   "codemirror_mode": {
    "name": "ipython",
    "version": 3
   },
   "file_extension": ".py",
   "mimetype": "text/x-python",
   "name": "python",
   "nbconvert_exporter": "python",
   "pygments_lexer": "ipython3",
   "version": "3.10.8"
  }
 },
 "nbformat": 4,
 "nbformat_minor": 5
}
