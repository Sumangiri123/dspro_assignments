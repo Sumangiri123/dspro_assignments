{
 "cells": [
  {
   "cell_type": "markdown",
   "id": "5cdc1c0c-bdc2-4025-aaeb-e416260acbc0",
   "metadata": {},
   "source": [
    "Assignment Questions - Numpy"
   ]
  },
  {
   "cell_type": "raw",
   "id": "2590a70b-8c8d-4108-93b3-880618600c2e",
   "metadata": {},
   "source": [
    "1. What is a Python library? Why do we use Python libraries?"
   ]
  },
  {
   "cell_type": "code",
   "execution_count": 36,
   "id": "3b3373f6-b662-4183-9ad9-aa28c628e669",
   "metadata": {},
   "outputs": [],
   "source": [
    "\n",
    "# A Python library is a collection of related modules that contain bundles of code, documentation, configuration data, message templates, classes, and values. \n",
    "# These libraries are used to simplify and speed up programming by providing precompiled code that can be reused in different programs. Python libraries play \n",
    "# a crucial role in various fields such as Machine Learning, Data Science, and Data Visualization.\n",
    "\n",
    "\n",
    "\n",
    "# We use Python libraries to avoid reinventing the wheel, as they provide pre-written collections of functions and modules that help developers access and use specific functionalities\n",
    "# without having to create them from scratch. This saves time, increases productivity, and allows programmers to focus on solving unique problems rather than on basic tasks that have \n",
    "# already been solved by these libraries\n"
   ]
  },
  {
   "cell_type": "raw",
   "id": "e57be888-d751-455f-a9c3-cd81ba9ec50a",
   "metadata": {},
   "source": [
    "2. What is the difference between Numpy array and List?"
   ]
  },
  {
   "cell_type": "code",
   "execution_count": 37,
   "id": "2e065565-efd2-4b82-9bc9-cbe045fa0476",
   "metadata": {},
   "outputs": [],
   "source": [
    "# Numpy array stores homogenous data which helps in faster computation whereas List store heterogenous data .\n",
    "# Numpy array is of fixed size means once defined it cannot be changed so it has no concept of resizing whereas list is of dynamic size means can be changed at any time so concept of resizing exits here"
   ]
  },
  {
   "cell_type": "raw",
   "id": "10678717-90cf-4c38-b179-2afce70e41b8",
   "metadata": {},
   "source": [
    "3. Find the shape, size and dimension of the following array?\n",
    "[[1, 2, 3, 4]\n",
    "[5, 6, 7, 8],\n",
    "[9, 10, 11, 12]]"
   ]
  },
  {
   "cell_type": "code",
   "execution_count": 38,
   "id": "7234a12f-b5a8-4b09-ad85-066ba0cdd691",
   "metadata": {},
   "outputs": [
    {
     "name": "stdout",
     "output_type": "stream",
     "text": [
      "Shape of Matrix : (3, 4)\n",
      "Size of Matrix : 12\n",
      "Dimension of Matrix : 2\n"
     ]
    }
   ],
   "source": [
    "import numpy as np\n",
    "\n",
    "l = [[1, 2, 3, 4],\n",
    "    [5, 6, 7, 8],\n",
    "    [9, 10, 11, 12]] \n",
    "\n",
    "arr = np.array(l)\n",
    "\n",
    "print(\"Shape of Matrix :\",arr.shape)\n",
    "print(\"Size of Matrix :\",arr.size)\n",
    "print(\"Dimension of Matrix :\",arr.ndim)"
   ]
  },
  {
   "cell_type": "raw",
   "id": "7e03a6f9-4a71-45ab-ae9b-aa4d9969804e",
   "metadata": {},
   "source": [
    "4. Write python code to access the first row of the following array?\n",
    "[[1, 2, 3, 4]\n",
    "[5, 6, 7, 8],\n",
    "[9, 10, 11, 12]]"
   ]
  },
  {
   "cell_type": "code",
   "execution_count": 34,
   "id": "def67aa8-50ec-4366-8294-2bda57a929a8",
   "metadata": {},
   "outputs": [
    {
     "name": "stdout",
     "output_type": "stream",
     "text": [
      "First row of array: [1 2 3 4]\n"
     ]
    }
   ],
   "source": [
    "import numpy as np\n",
    "\n",
    "l = [[1, 2, 3, 4],\n",
    "    [5, 6, 7, 8],\n",
    "    [9, 10, 11, 12]]\n",
    "\n",
    "arr = np.array(l)\n",
    "\n",
    "print(\"First row of array:\",arr[0])"
   ]
  },
  {
   "cell_type": "raw",
   "id": "9e0d4fa0-95d2-457f-bcb6-5b0c9fc101bc",
   "metadata": {},
   "source": [
    "5. How do you access the element at the third row and fourth column from the given numpy array?\n",
    "[[1, 2, 3, 4]\n",
    "[5, 6, 7, 8],\n",
    "[9, 10, 11, 12]]"
   ]
  },
  {
   "cell_type": "code",
   "execution_count": 39,
   "id": "63b3a3fa-b864-4134-81a5-a7bdcbd535f4",
   "metadata": {},
   "outputs": [
    {
     "name": "stdout",
     "output_type": "stream",
     "text": [
      "element at the third row and fourth column : 12\n"
     ]
    }
   ],
   "source": [
    "import numpy as np\n",
    "\n",
    "l = [[1, 2, 3, 4],\n",
    "    [5, 6, 7, 8],\n",
    "    [9, 10, 11, 12]]\n",
    "\n",
    "arr = np.array(l)\n",
    "\n",
    "print(\"element at the third row and fourth column :\",arr[2][3])"
   ]
  },
  {
   "cell_type": "raw",
   "id": "502b29b4-923e-48df-9b0d-5109370c78a7",
   "metadata": {},
   "source": [
    "6. Write code to extract all odd-indexed elements from the given numpy array?\n",
    "[[1, 2, 3, 4]\n",
    "[5, 6, 7, 8],\n",
    "[9, 10, 11, 12]]"
   ]
  },
  {
   "cell_type": "code",
   "execution_count": 40,
   "id": "48f11e46-b384-411e-8aaf-f0d5bb90f570",
   "metadata": {},
   "outputs": [
    {
     "name": "stdout",
     "output_type": "stream",
     "text": [
      "all odd-indexed elements from the given numpy array : [2, 4, 5, 7, 10, 12]\n"
     ]
    }
   ],
   "source": [
    "import numpy as np\n",
    "\n",
    "l = [[1, 2, 3, 4],\n",
    "    [5, 6, 7, 8],\n",
    "    [9, 10, 11, 12]]\n",
    "\n",
    "arr = np.array(l)\n",
    "\n",
    "odd = []\n",
    "\n",
    "for i in range(len(arr)):\n",
    "    for j in range(len(arr[0])):\n",
    "        if (i+j) % 2 != 0:\n",
    "                odd.append(arr[i][j])\n",
    "                \n",
    "print(\"all odd-indexed elements from the given numpy array :\",odd)"
   ]
  },
  {
   "cell_type": "raw",
   "id": "0cfb6b95-ac33-4a15-b58c-e242a58a69d7",
   "metadata": {},
   "source": [
    "7. How can you generate a random 3x3 matrix with values between 0 and 1?"
   ]
  },
  {
   "cell_type": "code",
   "execution_count": 41,
   "id": "ab716ec4-cbe4-458f-a028-22810a9b6256",
   "metadata": {},
   "outputs": [
    {
     "name": "stdout",
     "output_type": "stream",
     "text": [
      "Below is a random 3x3 matrix with values between 0 and 1 :\n"
     ]
    },
    {
     "data": {
      "text/plain": [
       "array([[0.59201847, 0.57763316, 0.79057343],\n",
       "       [0.44851764, 0.10407913, 0.6489327 ],\n",
       "       [0.19184457, 0.11522765, 0.45763328]])"
      ]
     },
     "execution_count": 41,
     "metadata": {},
     "output_type": "execute_result"
    }
   ],
   "source": [
    "import numpy as np\n",
    "print(\"Below is a random 3x3 matrix with values between 0 and 1 :\")\n",
    "np.random.rand(3,3)"
   ]
  },
  {
   "cell_type": "raw",
   "id": "beb2e651-cfd0-43d2-8cfa-f05d873ce8b4",
   "metadata": {},
   "source": [
    "8. Describe the difference between np.random.rand and np.random.randn?"
   ]
  },
  {
   "cell_type": "code",
   "execution_count": 16,
   "id": "bf266a26-4685-41bd-9db4-90cd56a5c8fa",
   "metadata": {},
   "outputs": [],
   "source": [
    "# np.random.rand generates random numbers from a uniform distribution between 0 and 1, while\n",
    "# np.random.randn generates random numbers from a standard normal distribution (mean 0, standard deviation 1)."
   ]
  },
  {
   "cell_type": "raw",
   "id": "cc4a2e3b-d012-4589-be4f-2a075f3338cc",
   "metadata": {},
   "source": [
    "9. Write code to increase the dimension of the following array?\n",
    "[[1, 2, 3, 4]\n",
    "[5, 6, 7, 8],\n",
    "[9, 10, 11, 12]]"
   ]
  },
  {
   "cell_type": "code",
   "execution_count": 21,
   "id": "64b7d72b-b719-4f7e-8d7b-dc20918ecfdc",
   "metadata": {},
   "outputs": [
    {
     "data": {
      "text/plain": [
       "array([[[ 1,  2,  3,  4]],\n",
       "\n",
       "       [[ 5,  6,  7,  8]],\n",
       "\n",
       "       [[ 9, 10, 11, 12]]])"
      ]
     },
     "execution_count": 21,
     "metadata": {},
     "output_type": "execute_result"
    }
   ],
   "source": [
    "import numpy as np\n",
    "\n",
    "l = [[1, 2, 3, 4],\n",
    "    [5, 6, 7, 8],\n",
    "    [9, 10, 11, 12]]\n",
    "\n",
    "arr = np.array(l)\n",
    "\n",
    "np.expand_dims(arr,axis=1) # expanding dimension columnwise"
   ]
  },
  {
   "cell_type": "raw",
   "id": "c33f10b8-d8ce-47bf-a43c-23101cf12db1",
   "metadata": {},
   "source": [
    "10. How to transpose the following array in NumPy?\n",
    "[[1, 2, 3, 4]\n",
    "[5, 6, 7, 8],\n",
    "[9, 10, 11, 12]]"
   ]
  },
  {
   "cell_type": "code",
   "execution_count": 10,
   "id": "090c0589-56df-4c6a-9760-8f84cebdd464",
   "metadata": {},
   "outputs": [
    {
     "name": "stdout",
     "output_type": "stream",
     "text": [
      "Transpose Of Given Matrix :\n",
      "[[ 1  5  9]\n",
      " [ 2  6 10]\n",
      " [ 3  7 11]\n",
      " [ 4  8 12]]\n"
     ]
    }
   ],
   "source": [
    "import numpy as np\n",
    "\n",
    "l = [[1, 2, 3, 4],\n",
    "    [5, 6, 7, 8],\n",
    "    [9, 10, 11, 12]]\n",
    "\n",
    "arr = np.array(l)\n",
    "print(\"Transpose Of Given Matrix :\")\n",
    "print(arr.T)"
   ]
  },
  {
   "cell_type": "raw",
   "id": "3dba6ae5-a45a-41cf-baf5-f9fedf89887b",
   "metadata": {},
   "source": [
    "11. Consider the following matrix:\n",
    "Matrix A2 [[1, 2, 3, 4] [5, 6, 7, 8],[9, 10, 11, 12]]\n",
    "Matrix B2 [[1, 2, 3, 4] [5, 6, 7, 8],[9, 10, 11, 12]]\n",
    "\n",
    "Perform the following operation using Python:\n",
    "1. Index wise multiplication\n",
    "2. Matix multiplication\n",
    "3. Add both the matrices\n",
    "4. Subtact martix B from A \n",
    "5. Divide Matrix B by A"
   ]
  },
  {
   "cell_type": "code",
   "execution_count": 30,
   "id": "7bf37623-0f2b-4e8f-b5fe-bf07f759f988",
   "metadata": {},
   "outputs": [
    {
     "name": "stdout",
     "output_type": "stream",
     "text": [
      "Index wise multiplication:\n",
      " [[  1   4   9  16]\n",
      " [ 25  36  49  64]\n",
      " [ 81 100 121 144]]\n",
      "\n",
      "Matrix multiplication:\n",
      " [[ 30  70 110]\n",
      " [ 70 174 278]\n",
      " [110 278 446]]\n",
      "\n",
      "Matrix sum:\n",
      " [[ 2  4  6  8]\n",
      " [10 12 14 16]\n",
      " [18 20 22 24]]\n",
      "\n",
      "Matrix difference:\n",
      " [[0 0 0 0]\n",
      " [0 0 0 0]\n",
      " [0 0 0 0]]\n",
      "\n",
      "Matrix division:\n",
      " [[1. 1. 1. 1.]\n",
      " [1. 1. 1. 1.]\n",
      " [1. 1. 1. 1.]]\n"
     ]
    }
   ],
   "source": [
    "import numpy as np\n",
    "\n",
    "# Define matrices A and B\n",
    "A2 = np.array([[1, 2, 3, 4], [5, 6, 7, 8], [9, 10, 11, 12]])\n",
    "B2 = np.array([[1, 2, 3, 4], [5, 6, 7, 8], [9, 10, 11, 12]])\n",
    "\n",
    "# 1. Index wise multiplication\n",
    "index_wise_mult = A2 * B2\n",
    "\n",
    "# 2. Matrix multiplication\n",
    "matrix_mult = np.dot(A2, B2.T)  # or A2 @ B2.T\n",
    "\n",
    "# 3. Add both matrices\n",
    "matrix_sum = A2 + B2\n",
    "\n",
    "# 4. Subtract matrix B from A\n",
    "matrix_diff = A2 - B2\n",
    "\n",
    "# 5. Divide Matrix B by A\n",
    "matrix_div = B2 / A2\n",
    "\n",
    "# Display results\n",
    "print(\"Index wise multiplication:\\n\", index_wise_mult)\n",
    "print(\"\\nMatrix multiplication:\\n\", matrix_mult)\n",
    "print(\"\\nMatrix sum:\\n\", matrix_sum)\n",
    "print(\"\\nMatrix difference:\\n\", matrix_diff)\n",
    "print(\"\\nMatrix division:\\n\", matrix_div)\n"
   ]
  },
  {
   "cell_type": "raw",
   "id": "e6aea04e-a911-49f7-a720-7db200492b3a",
   "metadata": {},
   "source": [
    "12. Which function in Numpy can be used to swap the byte order of an array?"
   ]
  },
  {
   "cell_type": "code",
   "execution_count": 42,
   "id": "8f438071-c9af-46ff-8283-00a065b08913",
   "metadata": {},
   "outputs": [],
   "source": [
    "# The function in NumPy used to swap the byte order of an array is np.ndarray.byteswap(). This function toggles between\n",
    "# low-endian and big-endian data representation by returning a byteswapped array, optionally swapped in-place. It's \n",
    "# important to note that arrays of byte-strings are not swapped, and the real and imaginary parts of a complex number are \n",
    "# swapped individually"
   ]
  },
  {
   "cell_type": "raw",
   "id": "a87598a5-9d5b-4beb-b0a4-d7dfb4ed4186",
   "metadata": {},
   "source": [
    "13. What is the significance of the np.linalg.inv function?"
   ]
  },
  {
   "cell_type": "code",
   "execution_count": 7,
   "id": "3650c8c6-287c-4dba-a9f0-60b0df041053",
   "metadata": {},
   "outputs": [],
   "source": [
    "# The np.linalg.inv function in NumPy is used to calculate the inverse of a matrix. The inverse of a matrix, when \n",
    "# multiplied by the original matrix, results in the identity matrix. This function is crucial in linear algebra for \n",
    "# solving systems of equations, among other applications"
   ]
  },
  {
   "cell_type": "raw",
   "id": "ce979433-0838-4bb9-9d90-0a2ca116df6e",
   "metadata": {},
   "source": [
    "14. What does the np.reshape function do, and how is it used?"
   ]
  },
  {
   "cell_type": "code",
   "execution_count": 5,
   "id": "0fe25d7f-1fef-4821-a2f4-87186b0b4caf",
   "metadata": {},
   "outputs": [
    {
     "name": "stdout",
     "output_type": "stream",
     "text": [
      "Original Array :\n",
      "[[ 1  2  3  4]\n",
      " [ 5  6  7  8]\n",
      " [ 9 10 11 12]]\n",
      "\n",
      "Reshaped Array :\n",
      "[[ 1  2  3]\n",
      " [ 4  5  6]\n",
      " [ 7  8  9]\n",
      " [10 11 12]]\n"
     ]
    }
   ],
   "source": [
    "# np.reshape function reshapes the original array into another array of same size by changing number of number of rows \n",
    "# and columns of original array keeping in mind the size remains same . The usage of it stated below :\n",
    "\n",
    "import numpy as np\n",
    "\n",
    "l = [[1, 2, 3, 4],\n",
    "    [5, 6, 7, 8],\n",
    "    [9, 10, 11, 12]]\n",
    "\n",
    "arr = np.array(l)\n",
    "\n",
    "print(\"Original Array :\")\n",
    "print(arr)\n",
    "\n",
    "print()\n",
    "\n",
    "arr1 = np.reshape(arr,(4,3))\n",
    "print(\"Reshaped Array :\")\n",
    "print(arr1)\n"
   ]
  },
  {
   "cell_type": "raw",
   "id": "47400402-7bd8-4902-8e49-42fe6fa4a319",
   "metadata": {},
   "source": [
    "15. What is broadcasting in Numpy?"
   ]
  },
  {
   "cell_type": "code",
   "execution_count": 6,
   "id": "7473767c-72f8-4a34-a7d7-21760b4fe3db",
   "metadata": {},
   "outputs": [],
   "source": [
    "# Broadcasting in NumPy refers to how NumPy handles operations between arrays of different shapes. It allows for \n",
    "# arithmetic operations between arrays of different sizes by automatically expanding the smaller array to match the \n",
    "# shape of the larger one, provided they meet certain constraints. This process enables vectorized operations, which are \n",
    "# more efficient than using Python loops, as they are implemented in C. However, broadcasting can lead to inefficient \n",
    "# memory use in some cases, slowing down computation. The resulting array from a broadcasting operation will have the same\n",
    "# number of dimensions as the array with the most dimensions. Broadcasting can be applied to multiple arrays and is a \n",
    "# fundamental feature for performing arithmetic operations on arrays of different shapes efficiently"
   ]
  }
 ],
 "metadata": {
  "kernelspec": {
   "display_name": "Python 3 (ipykernel)",
   "language": "python",
   "name": "python3"
  },
  "language_info": {
   "codemirror_mode": {
    "name": "ipython",
    "version": 3
   },
   "file_extension": ".py",
   "mimetype": "text/x-python",
   "name": "python",
   "nbconvert_exporter": "python",
   "pygments_lexer": "ipython3",
   "version": "3.10.8"
  }
 },
 "nbformat": 4,
 "nbformat_minor": 5
}
